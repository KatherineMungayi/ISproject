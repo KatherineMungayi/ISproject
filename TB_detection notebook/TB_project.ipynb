{
  "nbformat": 4,
  "nbformat_minor": 0,
  "metadata": {
    "colab": {
      "name": "TB project.ipynb",
      "provenance": [],
      "collapsed_sections": []
    },
    "kernelspec": {
      "name": "python3",
      "display_name": "Python 3"
    },
    "language_info": {
      "name": "python"
    }
  },
  "cells": [
    {
      "cell_type": "markdown",
      "source": [
        "# **Importing necessary libraries and modules needed for the project**\n",
        "\n"
      ],
      "metadata": {
        "id": "YV3-BkK9t5DS"
      }
    },
    {
      "cell_type": "code",
      "execution_count": 1,
      "metadata": {
        "id": "Dbtv9r6QwQhD"
      },
      "outputs": [],
      "source": [
        "import numpy as np\n",
        "import pandas as pd\n",
        "import cv2\n",
        "import seaborn as sns\n",
        "import tensorflow as tf\n",
        "import random\n",
        "import matplotlib.pyplot as plt\n",
        "import matplotlib.dates as mdates\n",
        "from sklearn.model_selection import train_test_split\n",
        "from pandas.plotting import register_matplotlib_converters\n",
        "register_matplotlib_converters()\n",
        "%matplotlib inline\n",
        "from sklearn.datasets import load_files       \n",
        "from keras.utils import np_utils\n",
        "from keras.preprocessing.image import ImageDataGenerator\n",
        "from keras.preprocessing.image import ImageDataGenerator\n",
        "from keras.models import Sequential\n",
        "from keras.layers import Conv2D, MaxPooling2D\n",
        "from keras.layers import Activation, Dropout, Flatten, Dense\n",
        "from keras import backend as K\n",
        "from keras.callbacks import EarlyStopping, ModelCheckpoint\n",
        "import numpy as np\n",
        "from glob import glob\n",
        "import keras\n",
        "from keras.preprocessing import image                  \n",
        "from tqdm import tqdm\n",
        "import os, os.path\n",
        "import imageio\n",
        "from sklearn.metrics import confusion_matrix, f1_score\n",
        "from sklearn.utils import class_weight"
      ]
    },
    {
      "cell_type": "code",
      "source": [
        "from google.colab import drive\n"
      ],
      "metadata": {
        "id": "eQVRZaJNwYqK"
      },
      "execution_count": 2,
      "outputs": []
    },
    {
      "cell_type": "code",
      "source": [
        "drive.mount('/content/drive')"
      ],
      "metadata": {
        "colab": {
          "base_uri": "https://localhost:8080/"
        },
        "id": "Pq0_oU0fwirE",
        "outputId": "8c16eb98-9a6d-4b50-9740-0980a0db10bc"
      },
      "execution_count": 3,
      "outputs": [
        {
          "output_type": "stream",
          "name": "stdout",
          "text": [
            "Drive already mounted at /content/drive; to attempt to forcibly remount, call drive.mount(\"/content/drive\", force_remount=True).\n"
          ]
        }
      ]
    },
    {
      "cell_type": "code",
      "source": [
        "import zipfile"
      ],
      "metadata": {
        "id": "XxUEOvLbwnyx"
      },
      "execution_count": 4,
      "outputs": []
    },
    {
      "cell_type": "code",
      "source": [
        "zip_ref = zipfile.ZipFile('/content/drive/MyDrive/data.zip', 'r')\n",
        "zip_ref.extractall('/input')\n",
        "zip_ref.close()"
      ],
      "metadata": {
        "id": "vGyffaybwqpW"
      },
      "execution_count": 5,
      "outputs": []
    },
    {
      "cell_type": "code",
      "source": [
        "train_path= ('../input/train')\n",
        "test_path= ('../input/test')\n",
        "val_path=  ('../input/val')\n"
      ],
      "metadata": {
        "id": "kEtuNarrwyD0"
      },
      "execution_count": 6,
      "outputs": []
    },
    {
      "cell_type": "markdown",
      "source": [
        "# **Data preprocessing**"
      ],
      "metadata": {
        "id": "4F4WH22TuS0t"
      }
    },
    {
      "cell_type": "code",
      "source": [
        "#train data preprocessing\n",
        "CLASSES=[\"NORMAL\",\"TURBERCULOSIS\"]\n",
        "img_size=150\n",
        "train_data=[]\n",
        "\n",
        "for category in CLASSES:\n",
        "    path=os.path.join(train_path,category)\n",
        "    label=CLASSES.index(category)\n",
        "    for img in os.listdir(path):\n",
        "        img_path=os.path.join(path,img)\n",
        "        img_array=cv2.imread(img_path)\n",
        "        img_array=cv2.resize(img_array , (img_size,img_size))\n",
        "        train_data.append([img_array,label])"
      ],
      "metadata": {
        "id": "hNt3EGjAw848"
      },
      "execution_count": 7,
      "outputs": []
    },
    {
      "cell_type": "code",
      "source": [
        "random.shuffle(train_data)"
      ],
      "metadata": {
        "id": "dNst8NMHy3aI"
      },
      "execution_count": 8,
      "outputs": []
    },
    {
      "cell_type": "code",
      "source": [
        "len([name for name in os.listdir(train_path + \"/NORMAL/\") if os.path.isfile(os.path.join(train_path + \"/NORMAL/\", name))])\n"
      ],
      "metadata": {
        "colab": {
          "base_uri": "https://localhost:8080/"
        },
        "id": "JT-uhe7Czoey",
        "outputId": "3c40d75d-9c57-41d4-8bbd-36b015dc4b77"
      },
      "execution_count": 9,
      "outputs": [
        {
          "output_type": "execute_result",
          "data": {
            "text/plain": [
              "1341"
            ]
          },
          "metadata": {},
          "execution_count": 9
        }
      ]
    },
    {
      "cell_type": "code",
      "source": [
        "len([name for name in os.listdir(train_path + \"/TURBERCULOSIS/\") if os.path.isfile(os.path.join(train_path + \"/TURBERCULOSIS/\", name))])\n"
      ],
      "metadata": {
        "colab": {
          "base_uri": "https://localhost:8080/"
        },
        "id": "57dcts0-2vxx",
        "outputId": "06dfcdda-2d0e-44cf-f758-35d6e38afb13"
      },
      "execution_count": 10,
      "outputs": [
        {
          "output_type": "execute_result",
          "data": {
            "text/plain": [
              "650"
            ]
          },
          "metadata": {},
          "execution_count": 10
        }
      ]
    },
    {
      "cell_type": "code",
      "source": [
        "X_train = []\n",
        "Y_train = []"
      ],
      "metadata": {
        "id": "IVbxYFJC3AK4"
      },
      "execution_count": 11,
      "outputs": []
    },
    {
      "cell_type": "code",
      "source": [
        "#Append method appends an element to the end of a list(adds a list to a list)\n",
        "for features , label in train_data:\n",
        "  X_train.append(features)\n",
        "  Y_train.append(label) \n",
        "#provide an array object for the specified values\n",
        "X_train=np.array(X_train)\n",
        "Y_train=np.array(Y_train)\n",
        "\n",
        "\n"
      ],
      "metadata": {
        "id": "lkRwlBhy3S1T"
      },
      "execution_count": 12,
      "outputs": []
    },
    {
      "cell_type": "code",
      "source": [
        "#displaying array values for the first 20 images\n",
        "Y_train[:20]"
      ],
      "metadata": {
        "colab": {
          "base_uri": "https://localhost:8080/"
        },
        "id": "XZVqbzIS4lLA",
        "outputId": "d80b3deb-21e6-4e8c-ca19-565a57cfc5c7"
      },
      "execution_count": 13,
      "outputs": [
        {
          "output_type": "execute_result",
          "data": {
            "text/plain": [
              "array([0, 0, 0, 1, 0, 0, 0, 1, 0, 0, 0, 0, 0, 0, 0, 0, 1, 0, 1, 1])"
            ]
          },
          "metadata": {},
          "execution_count": 13
        }
      ]
    },
    {
      "cell_type": "code",
      "source": [
        "X_train = X_train/255\n"
      ],
      "metadata": {
        "id": "HQ6gk5yZ4xXO"
      },
      "execution_count": 14,
      "outputs": []
    },
    {
      "cell_type": "code",
      "source": [
        "X_train"
      ],
      "metadata": {
        "colab": {
          "base_uri": "https://localhost:8080/"
        },
        "id": "b7txg1mB42tx",
        "outputId": "45d832b6-98e5-44c3-adf7-6fcb92311fc4"
      },
      "execution_count": 15,
      "outputs": [
        {
          "output_type": "execute_result",
          "data": {
            "text/plain": [
              "array([[[[0.25098039, 0.25098039, 0.25098039],\n",
              "         [0.50980392, 0.50980392, 0.50980392],\n",
              "         [0.48235294, 0.48235294, 0.48235294],\n",
              "         ...,\n",
              "         [0.00784314, 0.00784314, 0.00784314],\n",
              "         [0.00784314, 0.00784314, 0.00784314],\n",
              "         [0.00784314, 0.00784314, 0.00784314]],\n",
              "\n",
              "        [[0.25490196, 0.25490196, 0.25490196],\n",
              "         [0.41176471, 0.41176471, 0.41176471],\n",
              "         [0.5254902 , 0.5254902 , 0.5254902 ],\n",
              "         ...,\n",
              "         [0.01176471, 0.01176471, 0.01176471],\n",
              "         [0.01176471, 0.01176471, 0.01176471],\n",
              "         [0.01176471, 0.01176471, 0.01176471]],\n",
              "\n",
              "        [[0.25490196, 0.25490196, 0.25490196],\n",
              "         [0.29803922, 0.29803922, 0.29803922],\n",
              "         [0.56078431, 0.56078431, 0.56078431],\n",
              "         ...,\n",
              "         [0.00784314, 0.00784314, 0.00784314],\n",
              "         [0.00392157, 0.00392157, 0.00392157],\n",
              "         [0.01176471, 0.01176471, 0.01176471]],\n",
              "\n",
              "        ...,\n",
              "\n",
              "        [[0.        , 0.        , 0.        ],\n",
              "         [0.        , 0.        , 0.        ],\n",
              "         [0.        , 0.        , 0.        ],\n",
              "         ...,\n",
              "         [0.23921569, 0.23921569, 0.23921569],\n",
              "         [0.10588235, 0.10588235, 0.10588235],\n",
              "         [0.01176471, 0.01176471, 0.01176471]],\n",
              "\n",
              "        [[0.        , 0.        , 0.        ],\n",
              "         [0.        , 0.        , 0.        ],\n",
              "         [0.        , 0.        , 0.        ],\n",
              "         ...,\n",
              "         [0.23921569, 0.23921569, 0.23921569],\n",
              "         [0.12941176, 0.12941176, 0.12941176],\n",
              "         [0.02745098, 0.02745098, 0.02745098]],\n",
              "\n",
              "        [[0.        , 0.        , 0.        ],\n",
              "         [0.        , 0.        , 0.        ],\n",
              "         [0.        , 0.        , 0.        ],\n",
              "         ...,\n",
              "         [0.2627451 , 0.2627451 , 0.2627451 ],\n",
              "         [0.15294118, 0.15294118, 0.15294118],\n",
              "         [0.03529412, 0.03529412, 0.03529412]]],\n",
              "\n",
              "\n",
              "       [[[0.48627451, 0.48627451, 0.48627451],\n",
              "         [0.5254902 , 0.5254902 , 0.5254902 ],\n",
              "         [0.50980392, 0.50980392, 0.50980392],\n",
              "         ...,\n",
              "         [0.40784314, 0.40784314, 0.40784314],\n",
              "         [0.40392157, 0.40392157, 0.40392157],\n",
              "         [0.39607843, 0.39607843, 0.39607843]],\n",
              "\n",
              "        [[0.52941176, 0.52941176, 0.52941176],\n",
              "         [0.52941176, 0.52941176, 0.52941176],\n",
              "         [0.50588235, 0.50588235, 0.50588235],\n",
              "         ...,\n",
              "         [0.43529412, 0.43529412, 0.43529412],\n",
              "         [0.41176471, 0.41176471, 0.41176471],\n",
              "         [0.38431373, 0.38431373, 0.38431373]],\n",
              "\n",
              "        [[0.51372549, 0.51372549, 0.51372549],\n",
              "         [0.54117647, 0.54117647, 0.54117647],\n",
              "         [0.52941176, 0.52941176, 0.52941176],\n",
              "         ...,\n",
              "         [0.44705882, 0.44705882, 0.44705882],\n",
              "         [0.38823529, 0.38823529, 0.38823529],\n",
              "         [0.38039216, 0.38039216, 0.38039216]],\n",
              "\n",
              "        ...,\n",
              "\n",
              "        [[0.        , 0.        , 0.        ],\n",
              "         [0.        , 0.        , 0.        ],\n",
              "         [0.        , 0.        , 0.        ],\n",
              "         ...,\n",
              "         [0.        , 0.        , 0.        ],\n",
              "         [0.        , 0.        , 0.        ],\n",
              "         [0.        , 0.        , 0.        ]],\n",
              "\n",
              "        [[0.        , 0.        , 0.        ],\n",
              "         [0.        , 0.        , 0.        ],\n",
              "         [0.        , 0.        , 0.        ],\n",
              "         ...,\n",
              "         [0.        , 0.        , 0.        ],\n",
              "         [0.        , 0.        , 0.        ],\n",
              "         [0.        , 0.        , 0.        ]],\n",
              "\n",
              "        [[0.        , 0.        , 0.        ],\n",
              "         [0.        , 0.        , 0.        ],\n",
              "         [0.        , 0.        , 0.        ],\n",
              "         ...,\n",
              "         [0.        , 0.        , 0.        ],\n",
              "         [0.        , 0.        , 0.        ],\n",
              "         [0.        , 0.        , 0.        ]]],\n",
              "\n",
              "\n",
              "       [[[0.        , 0.        , 0.        ],\n",
              "         [0.        , 0.        , 0.        ],\n",
              "         [0.        , 0.        , 0.        ],\n",
              "         ...,\n",
              "         [0.2       , 0.2       , 0.2       ],\n",
              "         [0.14509804, 0.14509804, 0.14509804],\n",
              "         [0.09019608, 0.09019608, 0.09019608]],\n",
              "\n",
              "        [[0.        , 0.        , 0.        ],\n",
              "         [0.        , 0.        , 0.        ],\n",
              "         [0.        , 0.        , 0.        ],\n",
              "         ...,\n",
              "         [0.20784314, 0.20784314, 0.20784314],\n",
              "         [0.15294118, 0.15294118, 0.15294118],\n",
              "         [0.09019608, 0.09019608, 0.09019608]],\n",
              "\n",
              "        [[0.        , 0.        , 0.        ],\n",
              "         [0.        , 0.        , 0.        ],\n",
              "         [0.        , 0.        , 0.        ],\n",
              "         ...,\n",
              "         [0.19215686, 0.19215686, 0.19215686],\n",
              "         [0.14509804, 0.14509804, 0.14509804],\n",
              "         [0.09803922, 0.09803922, 0.09803922]],\n",
              "\n",
              "        ...,\n",
              "\n",
              "        [[0.        , 0.        , 0.        ],\n",
              "         [0.        , 0.        , 0.        ],\n",
              "         [0.        , 0.        , 0.        ],\n",
              "         ...,\n",
              "         [0.        , 0.        , 0.        ],\n",
              "         [0.        , 0.        , 0.        ],\n",
              "         [0.        , 0.        , 0.        ]],\n",
              "\n",
              "        [[0.        , 0.        , 0.        ],\n",
              "         [0.        , 0.        , 0.        ],\n",
              "         [0.        , 0.        , 0.        ],\n",
              "         ...,\n",
              "         [0.        , 0.        , 0.        ],\n",
              "         [0.        , 0.        , 0.        ],\n",
              "         [0.        , 0.        , 0.        ]],\n",
              "\n",
              "        [[0.        , 0.        , 0.        ],\n",
              "         [0.        , 0.        , 0.        ],\n",
              "         [0.        , 0.        , 0.        ],\n",
              "         ...,\n",
              "         [0.        , 0.        , 0.        ],\n",
              "         [0.        , 0.        , 0.        ],\n",
              "         [0.        , 0.        , 0.        ]]],\n",
              "\n",
              "\n",
              "       ...,\n",
              "\n",
              "\n",
              "       [[[0.30196078, 0.3254902 , 0.30588235],\n",
              "         [0.30588235, 0.30980392, 0.27058824],\n",
              "         [0.2745098 , 0.26666667, 0.20784314],\n",
              "         ...,\n",
              "         [0.57647059, 0.54901961, 0.42745098],\n",
              "         [0.65098039, 0.65098039, 0.61568627],\n",
              "         [0.67843137, 0.69019608, 0.68235294]],\n",
              "\n",
              "        [[0.47058824, 0.48627451, 0.38823529],\n",
              "         [0.52941176, 0.5254902 , 0.40392157],\n",
              "         [0.51764706, 0.5254902 , 0.41176471],\n",
              "         ...,\n",
              "         [0.57254902, 0.54901961, 0.42352941],\n",
              "         [0.64313725, 0.63921569, 0.60392157],\n",
              "         [0.67843137, 0.69019608, 0.68627451]],\n",
              "\n",
              "        [[0.4745098 , 0.48627451, 0.39215686],\n",
              "         [0.51764706, 0.51764706, 0.40392157],\n",
              "         [0.5254902 , 0.52156863, 0.40392157],\n",
              "         ...,\n",
              "         [0.57647059, 0.54901961, 0.42352941],\n",
              "         [0.63921569, 0.63529412, 0.58823529],\n",
              "         [0.67843137, 0.69019608, 0.68627451]],\n",
              "\n",
              "        ...,\n",
              "\n",
              "        [[0.01176471, 0.09803922, 0.1254902 ],\n",
              "         [0.00784314, 0.10588235, 0.13333333],\n",
              "         [0.05098039, 0.16862745, 0.18823529],\n",
              "         ...,\n",
              "         [0.42352941, 0.44313725, 0.36470588],\n",
              "         [0.38431373, 0.41960784, 0.34509804],\n",
              "         [0.35294118, 0.38823529, 0.33333333]],\n",
              "\n",
              "        [[0.00784314, 0.08235294, 0.10980392],\n",
              "         [0.00784314, 0.10196078, 0.12941176],\n",
              "         [0.04313725, 0.15686275, 0.17647059],\n",
              "         ...,\n",
              "         [0.28235294, 0.32941176, 0.28627451],\n",
              "         [0.29803922, 0.34901961, 0.30588235],\n",
              "         [0.28627451, 0.34117647, 0.29803922]],\n",
              "\n",
              "        [[0.01960784, 0.0745098 , 0.09411765],\n",
              "         [0.00784314, 0.09019608, 0.12156863],\n",
              "         [0.03137255, 0.1372549 , 0.15686275],\n",
              "         ...,\n",
              "         [0.03529412, 0.02745098, 0.03137255],\n",
              "         [0.03137255, 0.03529412, 0.03529412],\n",
              "         [0.03921569, 0.03921569, 0.03921569]]],\n",
              "\n",
              "\n",
              "       [[[0.21568627, 0.21568627, 0.21568627],\n",
              "         [0.23921569, 0.23921569, 0.23921569],\n",
              "         [0.2627451 , 0.2627451 , 0.2627451 ],\n",
              "         ...,\n",
              "         [0.56862745, 0.56862745, 0.56862745],\n",
              "         [0.45882353, 0.45882353, 0.45882353],\n",
              "         [0.41960784, 0.41960784, 0.41960784]],\n",
              "\n",
              "        [[0.21176471, 0.21176471, 0.21176471],\n",
              "         [0.22745098, 0.22745098, 0.22745098],\n",
              "         [0.25490196, 0.25490196, 0.25490196],\n",
              "         ...,\n",
              "         [0.50980392, 0.50980392, 0.50980392],\n",
              "         [0.44313725, 0.44313725, 0.44313725],\n",
              "         [0.42352941, 0.42352941, 0.42352941]],\n",
              "\n",
              "        [[0.21568627, 0.21568627, 0.21568627],\n",
              "         [0.21960784, 0.21960784, 0.21960784],\n",
              "         [0.25098039, 0.25098039, 0.25098039],\n",
              "         ...,\n",
              "         [0.50196078, 0.50196078, 0.50196078],\n",
              "         [0.43529412, 0.43529412, 0.43529412],\n",
              "         [0.44313725, 0.44313725, 0.44313725]],\n",
              "\n",
              "        ...,\n",
              "\n",
              "        [[0.        , 0.        , 0.        ],\n",
              "         [0.        , 0.        , 0.        ],\n",
              "         [0.        , 0.        , 0.        ],\n",
              "         ...,\n",
              "         [0.03529412, 0.03529412, 0.03529412],\n",
              "         [0.02352941, 0.02352941, 0.02352941],\n",
              "         [0.02745098, 0.02745098, 0.02745098]],\n",
              "\n",
              "        [[0.        , 0.        , 0.        ],\n",
              "         [0.        , 0.        , 0.        ],\n",
              "         [0.        , 0.        , 0.        ],\n",
              "         ...,\n",
              "         [0.02745098, 0.02745098, 0.02745098],\n",
              "         [0.02745098, 0.02745098, 0.02745098],\n",
              "         [0.03137255, 0.03137255, 0.03137255]],\n",
              "\n",
              "        [[0.        , 0.        , 0.        ],\n",
              "         [0.        , 0.        , 0.        ],\n",
              "         [0.        , 0.        , 0.        ],\n",
              "         ...,\n",
              "         [0.02745098, 0.02745098, 0.02745098],\n",
              "         [0.03921569, 0.03921569, 0.03921569],\n",
              "         [0.02352941, 0.02352941, 0.02352941]]],\n",
              "\n",
              "\n",
              "       [[[0.77647059, 0.77647059, 0.77647059],\n",
              "         [0.82745098, 0.82745098, 0.82745098],\n",
              "         [0.83137255, 0.83137255, 0.83137255],\n",
              "         ...,\n",
              "         [0.85098039, 0.85098039, 0.85098039],\n",
              "         [0.85098039, 0.85098039, 0.85098039],\n",
              "         [0.85098039, 0.85098039, 0.85098039]],\n",
              "\n",
              "        [[0.77647059, 0.77647059, 0.77647059],\n",
              "         [0.82745098, 0.82745098, 0.82745098],\n",
              "         [0.83137255, 0.83137255, 0.83137255],\n",
              "         ...,\n",
              "         [0.74509804, 0.74509804, 0.74509804],\n",
              "         [0.7372549 , 0.7372549 , 0.7372549 ],\n",
              "         [0.81568627, 0.81568627, 0.81568627]],\n",
              "\n",
              "        [[0.77647059, 0.77647059, 0.77647059],\n",
              "         [0.82745098, 0.82745098, 0.82745098],\n",
              "         [0.83137255, 0.83137255, 0.83137255],\n",
              "         ...,\n",
              "         [0.58039216, 0.58039216, 0.58039216],\n",
              "         [0.56862745, 0.56862745, 0.56862745],\n",
              "         [0.62745098, 0.62745098, 0.62745098]],\n",
              "\n",
              "        ...,\n",
              "\n",
              "        [[0.84705882, 0.84705882, 0.84705882],\n",
              "         [0.88627451, 0.88627451, 0.88627451],\n",
              "         [0.88627451, 0.88627451, 0.88627451],\n",
              "         ...,\n",
              "         [0.62745098, 0.62745098, 0.62745098],\n",
              "         [0.57647059, 0.57647059, 0.57647059],\n",
              "         [0.64313725, 0.64313725, 0.64313725]],\n",
              "\n",
              "        [[0.84705882, 0.84705882, 0.84705882],\n",
              "         [0.88627451, 0.88627451, 0.88627451],\n",
              "         [0.89019608, 0.89019608, 0.89019608],\n",
              "         ...,\n",
              "         [0.64313725, 0.64313725, 0.64313725],\n",
              "         [0.61176471, 0.61176471, 0.61176471],\n",
              "         [0.73333333, 0.73333333, 0.73333333]],\n",
              "\n",
              "        [[0.84705882, 0.84705882, 0.84705882],\n",
              "         [0.88627451, 0.88627451, 0.88627451],\n",
              "         [0.87843137, 0.87843137, 0.87843137],\n",
              "         ...,\n",
              "         [0.89411765, 0.89411765, 0.89411765],\n",
              "         [0.89803922, 0.89803922, 0.89803922],\n",
              "         [0.89411765, 0.89411765, 0.89411765]]]])"
            ]
          },
          "metadata": {},
          "execution_count": 15
        }
      ]
    },
    {
      "cell_type": "code",
      "source": [
        "X_train.shape"
      ],
      "metadata": {
        "colab": {
          "base_uri": "https://localhost:8080/"
        },
        "id": "hDug4T0f4_ir",
        "outputId": "169fdf6f-d458-47df-9bc3-fa24164f53f7"
      },
      "execution_count": 16,
      "outputs": [
        {
          "output_type": "execute_result",
          "data": {
            "text/plain": [
              "(1991, 150, 150, 3)"
            ]
          },
          "metadata": {},
          "execution_count": 16
        }
      ]
    },
    {
      "cell_type": "markdown",
      "source": [
        "# **Training the model**"
      ],
      "metadata": {
        "id": "07VYt2n5u3ab"
      }
    },
    {
      "cell_type": "code",
      "source": [
        "def sensitivity(y_true, y_pred):\n",
        "  true_positives = K.sum(K.round(K.clip(y_true * y_pred, 0, 1)))\n",
        "  possible_positives = K.sum(K.round(K.clip(y_true, 0, 1)))\n",
        "  return true_positives / (possible_positives + K.epsilon())\n",
        "\n",
        "def specificity(y_true, y_pred):\n",
        "  true_negatives = K.sum(K.round(K.clip((1-y_true) * (1-y_pred), 0, 1)))\n",
        "  possible_negatives = K.sum(K.round(K.clip(1-y_true, 0, 1)))\n",
        "  return true_negatives / (possible_negatives + K.epsilon())\n",
        "\n",
        "def fmed(y_true, y_pred):\n",
        "  spec = specificity(y_true, y_pred)\n",
        "  sens = sensitivity(y_true, y_pred)\n",
        "  fmed = 2 * (spec * sens)/(spec+sens+K.epsilon())\n",
        "  return fmed\n",
        "\n",
        "def f1(y_true, y_pred):\n",
        "  true_positives = K.sum(K.round(K.clip(y_true * y_pred, 0, 1)))\n",
        "  possible_positives = K.sum(K.round(K.clip(y_true, 0, 1)))\n",
        "  predicted_positives = K.sum(K.round(K.clip(y_pred, 0, 1)))\n",
        "  precision = true_positives / (predicted_positives + K.epsilon())\n",
        "  recall = true_positives / (possible_positives + K.epsilon())\n",
        "  f1_val = 2*(precision*recall)/(precision+recall+K.epsilon())\n",
        "  return f1_val\n",
        "\n",
        "def generate_model(opt = tf.keras.optimizers.SGD(learning_rate=0.001, nesterov=True)):\n",
        "    \n",
        "    model = Sequential()\n",
        "    model.add(Conv2D(64, (3, 3), input_shape=X_train.shape[1:]))\n",
        "    model.add(Activation('relu'))\n",
        "    model.add(MaxPooling2D(pool_size=(2, 2)))\n",
        "\n",
        "    \n",
        "    model.add(Conv2D(64, (3,3)))\n",
        "    model.add(Activation('relu'))\n",
        "    model.add(MaxPooling2D(pool_size=(2, 2)))\n",
        "\n",
        "\n",
        "    model.add(Conv2D(64, (3,3)))\n",
        "    model.add(Activation('relu'))\n",
        "    model.add(MaxPooling2D(pool_size=(2, 2)))\n",
        "\n",
        "\n",
        "    model.add(Flatten())\n",
        "    model.add(Dense(64))\n",
        "    model.add(Activation('relu'))\n",
        "    model.add(Dropout(0.5))\n",
        "\n",
        "    model.add(Dense(64))\n",
        "    model.add(Activation('relu'))\n",
        "    model.add(Dropout(0.5))\n",
        "\n",
        "    model.add(Dense(1))\n",
        "    model.add(Activation('sigmoid'))    \n",
        "    \n",
        "    model.compile(loss='binary_crossentropy',\n",
        "              optimizer=opt,\n",
        "              metrics=['accuracy', sensitivity, specificity, fmed, f1])\n",
        "    return model"
      ],
      "metadata": {
        "id": "15vQomqcGavm"
      },
      "execution_count": 17,
      "outputs": []
    },
    {
      "cell_type": "code",
      "source": [
        "batch_size = 32\n",
        "\n",
        "model = generate_model(opt = tf.keras.optimizers.SGD(learning_rate=0.001, nesterov=True))\n",
        "history_val_fmed_sgd = model.fit(\n",
        "    X_train,Y_train,\n",
        "    validation_split=0.2,\n",
        "    epochs=40,\n",
        "    verbose=1,\n",
        "        callbacks=[\n",
        "          EarlyStopping(monitor='val_fmed ', mode=\"max\", verbose=1, patience=50),\n",
        "          ModelCheckpoint(train_path + '/sgd_val_fmed_model.h5', monitor='val_fmed', mode=\"max\", verbose=1, save_best_only=True)\n",
        "        ],\n",
        "    )"
      ],
      "metadata": {
        "colab": {
          "base_uri": "https://localhost:8080/"
        },
        "id": "sQUfVsf9Gg6U",
        "outputId": "0ec6b8a3-84c9-4e49-81bf-1e882ecf2e7d"
      },
      "execution_count": 19,
      "outputs": [
        {
          "output_type": "stream",
          "name": "stdout",
          "text": [
            "Epoch 1/40\n",
            "50/50 [==============================] - ETA: 0s - loss: 0.6697 - accuracy: 0.6068 - sensitivity: 0.2057 - specificity: 0.8015 - fmed: 0.2862 - f1: 0.2297\n",
            "Epoch 1: val_fmed improved from -inf to 0.00000, saving model to ../input/train/sgd_val_fmed_model.h5\n",
            "50/50 [==============================] - 93s 2s/step - loss: 0.6697 - accuracy: 0.6068 - sensitivity: 0.2057 - specificity: 0.8015 - fmed: 0.2862 - f1: 0.2297 - val_loss: 0.6477 - val_accuracy: 0.6692 - val_sensitivity: 0.0000e+00 - val_specificity: 1.0000 - val_fmed: 0.0000e+00 - val_f1: 0.0000e+00\n",
            "Epoch 2/40\n",
            "50/50 [==============================] - ETA: 0s - loss: 0.6455 - accuracy: 0.6690 - sensitivity: 0.1187 - specificity: 0.9368 - fmed: 0.1987 - f1: 0.1797\n",
            "Epoch 2: val_fmed did not improve from 0.00000\n",
            "50/50 [==============================] - 96s 2s/step - loss: 0.6455 - accuracy: 0.6690 - sensitivity: 0.1187 - specificity: 0.9368 - fmed: 0.1987 - f1: 0.1797 - val_loss: 0.6284 - val_accuracy: 0.6692 - val_sensitivity: 0.0000e+00 - val_specificity: 1.0000 - val_fmed: 0.0000e+00 - val_f1: 0.0000e+00\n",
            "Epoch 3/40\n",
            "50/50 [==============================] - ETA: 0s - loss: 0.6299 - accuracy: 0.6633 - sensitivity: 0.0787 - specificity: 0.9429 - fmed: 0.1349 - f1: 0.1239\n",
            "Epoch 3: val_fmed did not improve from 0.00000\n",
            "50/50 [==============================] - 95s 2s/step - loss: 0.6299 - accuracy: 0.6633 - sensitivity: 0.0787 - specificity: 0.9429 - fmed: 0.1349 - f1: 0.1239 - val_loss: 0.6162 - val_accuracy: 0.6692 - val_sensitivity: 0.0000e+00 - val_specificity: 1.0000 - val_fmed: 0.0000e+00 - val_f1: 0.0000e+00\n",
            "Epoch 4/40\n",
            "50/50 [==============================] - ETA: 0s - loss: 0.6270 - accuracy: 0.6633 - sensitivity: 0.0622 - specificity: 0.9518 - fmed: 0.1068 - f1: 0.0991\n",
            "Epoch 4: val_fmed did not improve from 0.00000\n",
            "50/50 [==============================] - 91s 2s/step - loss: 0.6270 - accuracy: 0.6633 - sensitivity: 0.0622 - specificity: 0.9518 - fmed: 0.1068 - f1: 0.0991 - val_loss: 0.6096 - val_accuracy: 0.6692 - val_sensitivity: 0.0000e+00 - val_specificity: 1.0000 - val_fmed: 0.0000e+00 - val_f1: 0.0000e+00\n",
            "Epoch 5/40\n",
            "50/50 [==============================] - ETA: 0s - loss: 0.6285 - accuracy: 0.6564 - sensitivity: 0.0685 - specificity: 0.9408 - fmed: 0.1159 - f1: 0.1043\n",
            "Epoch 5: val_fmed did not improve from 0.00000\n",
            "50/50 [==============================] - 93s 2s/step - loss: 0.6285 - accuracy: 0.6564 - sensitivity: 0.0685 - specificity: 0.9408 - fmed: 0.1159 - f1: 0.1043 - val_loss: 0.6050 - val_accuracy: 0.6692 - val_sensitivity: 0.0000e+00 - val_specificity: 1.0000 - val_fmed: 0.0000e+00 - val_f1: 0.0000e+00\n",
            "Epoch 6/40\n",
            "50/50 [==============================] - ETA: 0s - loss: 0.6198 - accuracy: 0.6658 - sensitivity: 0.0896 - specificity: 0.9446 - fmed: 0.1521 - f1: 0.1401\n",
            "Epoch 6: val_fmed did not improve from 0.00000\n",
            "50/50 [==============================] - 92s 2s/step - loss: 0.6198 - accuracy: 0.6658 - sensitivity: 0.0896 - specificity: 0.9446 - fmed: 0.1521 - f1: 0.1401 - val_loss: 0.6002 - val_accuracy: 0.6692 - val_sensitivity: 0.0000e+00 - val_specificity: 1.0000 - val_fmed: 0.0000e+00 - val_f1: 0.0000e+00\n",
            "Epoch 7/40\n",
            "50/50 [==============================] - ETA: 0s - loss: 0.6169 - accuracy: 0.6696 - sensitivity: 0.0987 - specificity: 0.9449 - fmed: 0.1634 - f1: 0.1504\n",
            "Epoch 7: val_fmed did not improve from 0.00000\n",
            "50/50 [==============================] - 93s 2s/step - loss: 0.6169 - accuracy: 0.6696 - sensitivity: 0.0987 - specificity: 0.9449 - fmed: 0.1634 - f1: 0.1504 - val_loss: 0.5950 - val_accuracy: 0.6692 - val_sensitivity: 0.0000e+00 - val_specificity: 1.0000 - val_fmed: 0.0000e+00 - val_f1: 0.0000e+00\n",
            "Epoch 8/40\n",
            "50/50 [==============================] - ETA: 0s - loss: 0.6155 - accuracy: 0.6533 - sensitivity: 0.0560 - specificity: 0.9396 - fmed: 0.0967 - f1: 0.0901\n",
            "Epoch 8: val_fmed did not improve from 0.00000\n",
            "50/50 [==============================] - 93s 2s/step - loss: 0.6155 - accuracy: 0.6533 - sensitivity: 0.0560 - specificity: 0.9396 - fmed: 0.0967 - f1: 0.0901 - val_loss: 0.5907 - val_accuracy: 0.6692 - val_sensitivity: 0.0000e+00 - val_specificity: 1.0000 - val_fmed: 0.0000e+00 - val_f1: 0.0000e+00\n",
            "Epoch 9/40\n",
            "50/50 [==============================] - ETA: 0s - loss: 0.6038 - accuracy: 0.6709 - sensitivity: 0.0945 - specificity: 0.9473 - fmed: 0.1565 - f1: 0.1441\n",
            "Epoch 9: val_fmed did not improve from 0.00000\n",
            "50/50 [==============================] - 93s 2s/step - loss: 0.6038 - accuracy: 0.6709 - sensitivity: 0.0945 - specificity: 0.9473 - fmed: 0.1565 - f1: 0.1441 - val_loss: 0.5831 - val_accuracy: 0.6692 - val_sensitivity: 0.0000e+00 - val_specificity: 1.0000 - val_fmed: 0.0000e+00 - val_f1: 0.0000e+00\n",
            "Epoch 10/40\n",
            "50/50 [==============================] - ETA: 0s - loss: 0.5990 - accuracy: 0.6765 - sensitivity: 0.1021 - specificity: 0.9548 - fmed: 0.1666 - f1: 0.1578\n",
            "Epoch 10: val_fmed did not improve from 0.00000\n",
            "50/50 [==============================] - 95s 2s/step - loss: 0.5990 - accuracy: 0.6765 - sensitivity: 0.1021 - specificity: 0.9548 - fmed: 0.1666 - f1: 0.1578 - val_loss: 0.5741 - val_accuracy: 0.6692 - val_sensitivity: 0.0000e+00 - val_specificity: 1.0000 - val_fmed: 0.0000e+00 - val_f1: 0.0000e+00\n",
            "Epoch 11/40\n",
            "50/50 [==============================] - ETA: 0s - loss: 0.6013 - accuracy: 0.6759 - sensitivity: 0.1163 - specificity: 0.9473 - fmed: 0.1864 - f1: 0.1740\n",
            "Epoch 11: val_fmed did not improve from 0.00000\n",
            "50/50 [==============================] - 94s 2s/step - loss: 0.6013 - accuracy: 0.6759 - sensitivity: 0.1163 - specificity: 0.9473 - fmed: 0.1864 - f1: 0.1740 - val_loss: 0.5645 - val_accuracy: 0.6692 - val_sensitivity: 0.0000e+00 - val_specificity: 1.0000 - val_fmed: 0.0000e+00 - val_f1: 0.0000e+00\n",
            "Epoch 12/40\n",
            "50/50 [==============================] - ETA: 0s - loss: 0.5865 - accuracy: 0.6866 - sensitivity: 0.1453 - specificity: 0.9489 - fmed: 0.2330 - f1: 0.2174\n",
            "Epoch 12: val_fmed did not improve from 0.00000\n",
            "50/50 [==============================] - 91s 2s/step - loss: 0.5865 - accuracy: 0.6866 - sensitivity: 0.1453 - specificity: 0.9489 - fmed: 0.2330 - f1: 0.2174 - val_loss: 0.5527 - val_accuracy: 0.6692 - val_sensitivity: 0.0000e+00 - val_specificity: 1.0000 - val_fmed: 0.0000e+00 - val_f1: 0.0000e+00\n",
            "Epoch 13/40\n",
            "50/50 [==============================] - ETA: 0s - loss: 0.5714 - accuracy: 0.6966 - sensitivity: 0.1575 - specificity: 0.9510 - fmed: 0.2555 - f1: 0.2393\n",
            "Epoch 13: val_fmed improved from 0.00000 to 0.02722, saving model to ../input/train/sgd_val_fmed_model.h5\n",
            "50/50 [==============================] - 93s 2s/step - loss: 0.5714 - accuracy: 0.6966 - sensitivity: 0.1575 - specificity: 0.9510 - fmed: 0.2555 - f1: 0.2393 - val_loss: 0.5399 - val_accuracy: 0.6742 - val_sensitivity: 0.0150 - val_specificity: 1.0000 - val_fmed: 0.0272 - val_f1: 0.0272\n",
            "Epoch 14/40\n",
            "50/50 [==============================] - ETA: 0s - loss: 0.5611 - accuracy: 0.7098 - sensitivity: 0.2216 - specificity: 0.9440 - fmed: 0.3324 - f1: 0.3099\n",
            "Epoch 14: val_fmed improved from 0.02722 to 0.10828, saving model to ../input/train/sgd_val_fmed_model.h5\n",
            "50/50 [==============================] - 93s 2s/step - loss: 0.5611 - accuracy: 0.7098 - sensitivity: 0.2216 - specificity: 0.9440 - fmed: 0.3324 - f1: 0.3099 - val_loss: 0.5245 - val_accuracy: 0.6892 - val_sensitivity: 0.0662 - val_specificity: 1.0000 - val_fmed: 0.1083 - val_f1: 0.1083\n",
            "Epoch 15/40\n",
            "50/50 [==============================] - ETA: 0s - loss: 0.5469 - accuracy: 0.7249 - sensitivity: 0.2789 - specificity: 0.9441 - fmed: 0.4135 - f1: 0.3846\n",
            "Epoch 15: val_fmed improved from 0.10828 to 0.13819, saving model to ../input/train/sgd_val_fmed_model.h5\n",
            "50/50 [==============================] - 91s 2s/step - loss: 0.5469 - accuracy: 0.7249 - sensitivity: 0.2789 - specificity: 0.9441 - fmed: 0.4135 - f1: 0.3846 - val_loss: 0.5046 - val_accuracy: 0.6967 - val_sensitivity: 0.0842 - val_specificity: 1.0000 - val_fmed: 0.1382 - val_f1: 0.1382\n",
            "Epoch 16/40\n",
            "50/50 [==============================] - ETA: 0s - loss: 0.5329 - accuracy: 0.7286 - sensitivity: 0.2993 - specificity: 0.9385 - fmed: 0.4290 - f1: 0.3995\n",
            "Epoch 16: val_fmed improved from 0.13819 to 0.24681, saving model to ../input/train/sgd_val_fmed_model.h5\n",
            "50/50 [==============================] - 93s 2s/step - loss: 0.5329 - accuracy: 0.7286 - sensitivity: 0.2993 - specificity: 0.9385 - fmed: 0.4290 - f1: 0.3995 - val_loss: 0.4852 - val_accuracy: 0.7168 - val_sensitivity: 0.1507 - val_specificity: 1.0000 - val_fmed: 0.2468 - val_f1: 0.2468\n",
            "Epoch 17/40\n",
            "50/50 [==============================] - ETA: 0s - loss: 0.5172 - accuracy: 0.7506 - sensitivity: 0.3263 - specificity: 0.9515 - fmed: 0.4658 - f1: 0.4376\n",
            "Epoch 17: val_fmed improved from 0.24681 to 0.43350, saving model to ../input/train/sgd_val_fmed_model.h5\n",
            "50/50 [==============================] - 93s 2s/step - loss: 0.5172 - accuracy: 0.7506 - sensitivity: 0.3263 - specificity: 0.9515 - fmed: 0.4658 - f1: 0.4376 - val_loss: 0.4574 - val_accuracy: 0.7619 - val_sensitivity: 0.2957 - val_specificity: 1.0000 - val_fmed: 0.4335 - val_f1: 0.4335\n",
            "Epoch 18/40\n",
            "50/50 [==============================] - ETA: 0s - loss: 0.5050 - accuracy: 0.7550 - sensitivity: 0.3795 - specificity: 0.9350 - fmed: 0.5202 - f1: 0.4849\n",
            "Epoch 18: val_fmed improved from 0.43350 to 0.63380, saving model to ../input/train/sgd_val_fmed_model.h5\n",
            "50/50 [==============================] - 91s 2s/step - loss: 0.5050 - accuracy: 0.7550 - sensitivity: 0.3795 - specificity: 0.9350 - fmed: 0.5202 - f1: 0.4849 - val_loss: 0.4346 - val_accuracy: 0.8246 - val_sensitivity: 0.4908 - val_specificity: 1.0000 - val_fmed: 0.6338 - val_f1: 0.6338\n",
            "Epoch 19/40\n",
            "50/50 [==============================] - ETA: 0s - loss: 0.4847 - accuracy: 0.7808 - sensitivity: 0.4863 - specificity: 0.9257 - fmed: 0.6226 - f1: 0.5776\n",
            "Epoch 19: val_fmed improved from 0.63380 to 0.72802, saving model to ../input/train/sgd_val_fmed_model.h5\n",
            "50/50 [==============================] - 93s 2s/step - loss: 0.4847 - accuracy: 0.7808 - sensitivity: 0.4863 - specificity: 0.9257 - fmed: 0.6226 - f1: 0.5776 - val_loss: 0.4089 - val_accuracy: 0.8571 - val_sensitivity: 0.5930 - val_specificity: 0.9965 - val_fmed: 0.7280 - val_f1: 0.7257\n",
            "Epoch 20/40\n",
            "50/50 [==============================] - ETA: 0s - loss: 0.4589 - accuracy: 0.8059 - sensitivity: 0.5295 - specificity: 0.9340 - fmed: 0.6597 - f1: 0.6230\n",
            "Epoch 20: val_fmed improved from 0.72802 to 0.78101, saving model to ../input/train/sgd_val_fmed_model.h5\n",
            "50/50 [==============================] - 91s 2s/step - loss: 0.4589 - accuracy: 0.8059 - sensitivity: 0.5295 - specificity: 0.9340 - fmed: 0.6597 - f1: 0.6230 - val_loss: 0.3825 - val_accuracy: 0.8772 - val_sensitivity: 0.6573 - val_specificity: 0.9930 - val_fmed: 0.7810 - val_f1: 0.7767\n",
            "Epoch 21/40\n",
            "50/50 [==============================] - ETA: 0s - loss: 0.4298 - accuracy: 0.8260 - sensitivity: 0.6123 - specificity: 0.9262 - fmed: 0.7230 - f1: 0.6811\n",
            "Epoch 21: val_fmed did not improve from 0.78101\n",
            "50/50 [==============================] - 93s 2s/step - loss: 0.4298 - accuracy: 0.8260 - sensitivity: 0.6123 - specificity: 0.9262 - fmed: 0.7230 - f1: 0.6811 - val_loss: 0.3567 - val_accuracy: 0.8697 - val_sensitivity: 0.6294 - val_specificity: 0.9965 - val_fmed: 0.7597 - val_f1: 0.7574\n",
            "Epoch 22/40\n",
            "50/50 [==============================] - ETA: 0s - loss: 0.4143 - accuracy: 0.8392 - sensitivity: 0.6372 - specificity: 0.9355 - fmed: 0.7486 - f1: 0.7114\n",
            "Epoch 22: val_fmed improved from 0.78101 to 0.89824, saving model to ../input/train/sgd_val_fmed_model.h5\n",
            "50/50 [==============================] - 93s 2s/step - loss: 0.4143 - accuracy: 0.8392 - sensitivity: 0.6372 - specificity: 0.9355 - fmed: 0.7486 - f1: 0.7114 - val_loss: 0.3253 - val_accuracy: 0.9298 - val_sensitivity: 0.8308 - val_specificity: 0.9863 - val_fmed: 0.8982 - val_f1: 0.8894\n",
            "Epoch 23/40\n",
            "50/50 [==============================] - ETA: 0s - loss: 0.3790 - accuracy: 0.8555 - sensitivity: 0.7030 - specificity: 0.9318 - fmed: 0.7910 - f1: 0.7526\n",
            "Epoch 23: val_fmed improved from 0.89824 to 0.94134, saving model to ../input/train/sgd_val_fmed_model.h5\n",
            "50/50 [==============================] - 91s 2s/step - loss: 0.3790 - accuracy: 0.8555 - sensitivity: 0.7030 - specificity: 0.9318 - fmed: 0.7910 - f1: 0.7526 - val_loss: 0.2885 - val_accuracy: 0.9474 - val_sensitivity: 0.9205 - val_specificity: 0.9677 - val_fmed: 0.9413 - val_f1: 0.9249\n",
            "Epoch 24/40\n",
            "50/50 [==============================] - ETA: 0s - loss: 0.3734 - accuracy: 0.8580 - sensitivity: 0.7079 - specificity: 0.9300 - fmed: 0.7901 - f1: 0.7500\n",
            "Epoch 24: val_fmed did not improve from 0.94134\n",
            "50/50 [==============================] - 93s 2s/step - loss: 0.3734 - accuracy: 0.8580 - sensitivity: 0.7079 - specificity: 0.9300 - fmed: 0.7901 - f1: 0.7500 - val_loss: 0.2650 - val_accuracy: 0.9449 - val_sensitivity: 0.9023 - val_specificity: 0.9709 - val_fmed: 0.9332 - val_f1: 0.9188\n",
            "Epoch 25/40\n",
            "50/50 [==============================] - ETA: 0s - loss: 0.3568 - accuracy: 0.8631 - sensitivity: 0.7150 - specificity: 0.9290 - fmed: 0.7972 - f1: 0.7564\n",
            "Epoch 25: val_fmed did not improve from 0.94134\n",
            "50/50 [==============================] - 93s 2s/step - loss: 0.3568 - accuracy: 0.8631 - sensitivity: 0.7150 - specificity: 0.9290 - fmed: 0.7972 - f1: 0.7564 - val_loss: 0.2444 - val_accuracy: 0.9449 - val_sensitivity: 0.9023 - val_specificity: 0.9709 - val_fmed: 0.9332 - val_f1: 0.9188\n",
            "Epoch 26/40\n",
            "50/50 [==============================] - ETA: 0s - loss: 0.3372 - accuracy: 0.8769 - sensitivity: 0.7458 - specificity: 0.9349 - fmed: 0.8161 - f1: 0.7801\n",
            "Epoch 26: val_fmed did not improve from 0.94134\n",
            "50/50 [==============================] - 91s 2s/step - loss: 0.3372 - accuracy: 0.8769 - sensitivity: 0.7458 - specificity: 0.9349 - fmed: 0.8161 - f1: 0.7801 - val_loss: 0.2319 - val_accuracy: 0.9373 - val_sensitivity: 0.8468 - val_specificity: 0.9898 - val_fmed: 0.9092 - val_f1: 0.9021\n",
            "Epoch 27/40\n",
            "50/50 [==============================] - ETA: 0s - loss: 0.3052 - accuracy: 0.8869 - sensitivity: 0.7636 - specificity: 0.9444 - fmed: 0.8382 - f1: 0.8086\n",
            "Epoch 27: val_fmed improved from 0.94134 to 0.95383, saving model to ../input/train/sgd_val_fmed_model.h5\n",
            "50/50 [==============================] - 93s 2s/step - loss: 0.3052 - accuracy: 0.8869 - sensitivity: 0.7636 - specificity: 0.9444 - fmed: 0.8382 - f1: 0.8086 - val_loss: 0.2050 - val_accuracy: 0.9549 - val_sensitivity: 0.9509 - val_specificity: 0.9609 - val_fmed: 0.9538 - val_f1: 0.9343\n",
            "Epoch 28/40\n",
            "50/50 [==============================] - ETA: 0s - loss: 0.3076 - accuracy: 0.8913 - sensitivity: 0.7934 - specificity: 0.9357 - fmed: 0.8510 - f1: 0.8180\n",
            "Epoch 28: val_fmed improved from 0.95383 to 0.95396, saving model to ../input/train/sgd_val_fmed_model.h5\n",
            "50/50 [==============================] - 93s 2s/step - loss: 0.3076 - accuracy: 0.8913 - sensitivity: 0.7934 - specificity: 0.9357 - fmed: 0.8510 - f1: 0.8180 - val_loss: 0.2184 - val_accuracy: 0.9524 - val_sensitivity: 0.9573 - val_specificity: 0.9538 - val_fmed: 0.9540 - val_f1: 0.9318\n",
            "Epoch 29/40\n",
            "50/50 [==============================] - ETA: 0s - loss: 0.2806 - accuracy: 0.9020 - sensitivity: 0.8424 - specificity: 0.9360 - fmed: 0.8829 - f1: 0.8466\n",
            "Epoch 29: val_fmed did not improve from 0.95396\n",
            "50/50 [==============================] - 91s 2s/step - loss: 0.2806 - accuracy: 0.9020 - sensitivity: 0.8424 - specificity: 0.9360 - fmed: 0.8829 - f1: 0.8466 - val_loss: 0.1838 - val_accuracy: 0.9549 - val_sensitivity: 0.9147 - val_specificity: 0.9778 - val_fmed: 0.9429 - val_f1: 0.9328\n",
            "Epoch 30/40\n",
            "50/50 [==============================] - ETA: 0s - loss: 0.2766 - accuracy: 0.8989 - sensitivity: 0.8100 - specificity: 0.9397 - fmed: 0.8622 - f1: 0.8306\n",
            "Epoch 30: val_fmed did not improve from 0.95396\n",
            "50/50 [==============================] - 93s 2s/step - loss: 0.2766 - accuracy: 0.8989 - sensitivity: 0.8100 - specificity: 0.9397 - fmed: 0.8622 - f1: 0.8306 - val_loss: 0.1755 - val_accuracy: 0.9624 - val_sensitivity: 0.9257 - val_specificity: 0.9816 - val_fmed: 0.9507 - val_f1: 0.9418\n",
            "Epoch 31/40\n",
            "50/50 [==============================] - ETA: 0s - loss: 0.2756 - accuracy: 0.9058 - sensitivity: 0.8462 - specificity: 0.9382 - fmed: 0.8846 - f1: 0.8480\n",
            "Epoch 31: val_fmed did not improve from 0.95396\n",
            "50/50 [==============================] - 93s 2s/step - loss: 0.2756 - accuracy: 0.9058 - sensitivity: 0.8462 - specificity: 0.9382 - fmed: 0.8846 - f1: 0.8480 - val_loss: 0.1728 - val_accuracy: 0.9549 - val_sensitivity: 0.9476 - val_specificity: 0.9609 - val_fmed: 0.9531 - val_f1: 0.9332\n",
            "Epoch 32/40\n",
            "50/50 [==============================] - ETA: 0s - loss: 0.2487 - accuracy: 0.9114 - sensitivity: 0.8481 - specificity: 0.9419 - fmed: 0.8868 - f1: 0.8509\n",
            "Epoch 32: val_fmed did not improve from 0.95396\n",
            "50/50 [==============================] - 91s 2s/step - loss: 0.2487 - accuracy: 0.9114 - sensitivity: 0.8481 - specificity: 0.9419 - fmed: 0.8868 - f1: 0.8509 - val_loss: 0.1543 - val_accuracy: 0.9649 - val_sensitivity: 0.9172 - val_specificity: 0.9898 - val_fmed: 0.9500 - val_f1: 0.9431\n",
            "Epoch 33/40\n",
            "50/50 [==============================] - ETA: 0s - loss: 0.2647 - accuracy: 0.9083 - sensitivity: 0.8547 - specificity: 0.9325 - fmed: 0.8863 - f1: 0.8517\n",
            "Epoch 33: val_fmed did not improve from 0.95396\n",
            "50/50 [==============================] - 93s 2s/step - loss: 0.2647 - accuracy: 0.9083 - sensitivity: 0.8547 - specificity: 0.9325 - fmed: 0.8863 - f1: 0.8517 - val_loss: 0.1619 - val_accuracy: 0.9449 - val_sensitivity: 0.8699 - val_specificity: 0.9898 - val_fmed: 0.9236 - val_f1: 0.9165\n",
            "Epoch 34/40\n",
            "50/50 [==============================] - ETA: 0s - loss: 0.2392 - accuracy: 0.9146 - sensitivity: 0.8642 - specificity: 0.9431 - fmed: 0.8956 - f1: 0.8635\n",
            "Epoch 34: val_fmed improved from 0.95396 to 0.96799, saving model to ../input/train/sgd_val_fmed_model.h5\n",
            "50/50 [==============================] - 96s 2s/step - loss: 0.2392 - accuracy: 0.9146 - sensitivity: 0.8642 - specificity: 0.9431 - fmed: 0.8956 - f1: 0.8635 - val_loss: 0.1286 - val_accuracy: 0.9699 - val_sensitivity: 0.9650 - val_specificity: 0.9739 - val_fmed: 0.9680 - val_f1: 0.9577\n",
            "Epoch 35/40\n",
            "50/50 [==============================] - ETA: 0s - loss: 0.2422 - accuracy: 0.9221 - sensitivity: 0.8602 - specificity: 0.9489 - fmed: 0.8975 - f1: 0.8714\n",
            "Epoch 35: val_fmed did not improve from 0.96799\n",
            "50/50 [==============================] - 91s 2s/step - loss: 0.2422 - accuracy: 0.9221 - sensitivity: 0.8602 - specificity: 0.9489 - fmed: 0.8975 - f1: 0.8714 - val_loss: 0.1395 - val_accuracy: 0.9549 - val_sensitivity: 0.9735 - val_specificity: 0.9503 - val_fmed: 0.9598 - val_f1: 0.9372\n",
            "Epoch 36/40\n",
            "50/50 [==============================] - ETA: 0s - loss: 0.2332 - accuracy: 0.9221 - sensitivity: 0.8610 - specificity: 0.9520 - fmed: 0.8996 - f1: 0.8735\n",
            "Epoch 36: val_fmed did not improve from 0.96799\n",
            "50/50 [==============================] - 93s 2s/step - loss: 0.2332 - accuracy: 0.9221 - sensitivity: 0.8610 - specificity: 0.9520 - fmed: 0.8996 - f1: 0.8735 - val_loss: 0.1191 - val_accuracy: 0.9674 - val_sensitivity: 0.9553 - val_specificity: 0.9739 - val_fmed: 0.9631 - val_f1: 0.9526\n",
            "Epoch 37/40\n",
            "50/50 [==============================] - ETA: 0s - loss: 0.2260 - accuracy: 0.9171 - sensitivity: 0.8586 - specificity: 0.9471 - fmed: 0.8971 - f1: 0.8645\n",
            "Epoch 37: val_fmed did not improve from 0.96799\n",
            "50/50 [==============================] - 91s 2s/step - loss: 0.2260 - accuracy: 0.9171 - sensitivity: 0.8586 - specificity: 0.9471 - fmed: 0.8971 - f1: 0.8645 - val_loss: 0.1232 - val_accuracy: 0.9549 - val_sensitivity: 0.9735 - val_specificity: 0.9503 - val_fmed: 0.9598 - val_f1: 0.9372\n",
            "Epoch 38/40\n",
            "50/50 [==============================] - ETA: 0s - loss: 0.2218 - accuracy: 0.9240 - sensitivity: 0.8811 - specificity: 0.9471 - fmed: 0.9082 - f1: 0.8786\n",
            "Epoch 38: val_fmed did not improve from 0.96799\n",
            "50/50 [==============================] - 93s 2s/step - loss: 0.2218 - accuracy: 0.9240 - sensitivity: 0.8811 - specificity: 0.9471 - fmed: 0.9082 - f1: 0.8786 - val_loss: 0.1229 - val_accuracy: 0.9699 - val_sensitivity: 0.9639 - val_specificity: 0.9739 - val_fmed: 0.9676 - val_f1: 0.9572\n",
            "Epoch 39/40\n",
            "50/50 [==============================] - ETA: 0s - loss: 0.2178 - accuracy: 0.9227 - sensitivity: 0.8615 - specificity: 0.9498 - fmed: 0.8990 - f1: 0.8759\n",
            "Epoch 39: val_fmed did not improve from 0.96799\n",
            "50/50 [==============================] - 93s 2s/step - loss: 0.2178 - accuracy: 0.9227 - sensitivity: 0.8615 - specificity: 0.9498 - fmed: 0.8990 - f1: 0.8759 - val_loss: 0.1179 - val_accuracy: 0.9549 - val_sensitivity: 0.9735 - val_specificity: 0.9503 - val_fmed: 0.9598 - val_f1: 0.9372\n",
            "Epoch 40/40\n",
            "50/50 [==============================] - ETA: 0s - loss: 0.1887 - accuracy: 0.9416 - sensitivity: 0.9042 - specificity: 0.9615 - fmed: 0.9285 - f1: 0.9071\n",
            "Epoch 40: val_fmed did not improve from 0.96799\n",
            "50/50 [==============================] - 91s 2s/step - loss: 0.1887 - accuracy: 0.9416 - sensitivity: 0.9042 - specificity: 0.9615 - fmed: 0.9285 - f1: 0.9071 - val_loss: 0.1085 - val_accuracy: 0.9649 - val_sensitivity: 0.9735 - val_specificity: 0.9639 - val_fmed: 0.9672 - val_f1: 0.9508\n"
          ]
        }
      ]
    },
    {
      "cell_type": "code",
      "source": [
        ""
      ],
      "metadata": {
        "id": "NfG2k-SUu9WJ"
      },
      "execution_count": null,
      "outputs": []
    },
    {
      "cell_type": "markdown",
      "source": [
        "# **Plotting the model perfomance**"
      ],
      "metadata": {
        "id": "pMAbkY0XvOGy"
      }
    },
    {
      "cell_type": "code",
      "source": [
        "history = history_val_fmed_sgd\n",
        "print(history.history.keys())\n",
        "\n",
        "# summarize history for fmed score\n",
        "plt.plot(history.history['fmed'])\n",
        "plt.plot(history.history['val_fmed'])\n",
        "plt.title('Model Fmed score vs. epochs')\n",
        "plt.ylabel('Fmed')\n",
        "plt.xlabel('epochs')\n",
        "plt.legend(['train', 'test'], loc='lower right')\n",
        "plt.show()"
      ],
      "metadata": {
        "colab": {
          "base_uri": "https://localhost:8080/",
          "height": 332
        },
        "id": "9YqcqMkKIvGg",
        "outputId": "fd6a703e-1d0e-49f8-9110-384bf534d75b"
      },
      "execution_count": 20,
      "outputs": [
        {
          "output_type": "stream",
          "name": "stdout",
          "text": [
            "dict_keys(['loss', 'accuracy', 'sensitivity', 'specificity', 'fmed', 'f1', 'val_loss', 'val_accuracy', 'val_sensitivity', 'val_specificity', 'val_fmed', 'val_f1'])\n"
          ]
        },
        {
          "output_type": "display_data",
          "data": {
            "text/plain": [
              "<Figure size 432x288 with 1 Axes>"
            ],
            "image/png": "[encoded data removed]"
          },
          "metadata": {
            "needs_background": "light"
          }
        }
      ]
    },
    {
      "cell_type": "code",
      "source": [
        "plt.plot(history.history['sensitivity'])\n",
        "plt.plot(history.history['val_sensitivity'])\n",
        "plt.title('Model Sensitivity score vs. epochs')\n",
        "plt.ylabel('Sensitivity')\n",
        "plt.xlabel('epochs')\n",
        "plt.legend(['train', 'test'], loc='lower right')\n",
        "plt.show()"
      ],
      "metadata": {
        "colab": {
          "base_uri": "https://localhost:8080/",
          "height": 295
        },
        "id": "1t-s8IzXkn_r",
        "outputId": "e84b1215-3996-4247-d58e-1280ed4d34e8"
      },
      "execution_count": 21,
      "outputs": [
        {
          "output_type": "display_data",
          "data": {
            "text/plain": [
              "<Figure size 432x288 with 1 Axes>"
            ],
            "image/png": "[encoded data removed]"
          },
          "metadata": {
            "needs_background": "light"
          }
        }
      ]
    },
    {
      "cell_type": "code",
      "source": [
        "# summarize history for specificity score\n",
        "plt.plot(history.history['specificity'])\n",
        "plt.plot(history.history['val_specificity'])\n",
        "plt.title('Model Specificity score vs. epochs')\n",
        "plt.ylabel('Specificity')\n",
        "plt.xlabel('epochs')\n",
        "plt.legend(['train', 'test'], loc='lower right')\n",
        "plt.show()"
      ],
      "metadata": {
        "colab": {
          "base_uri": "https://localhost:8080/",
          "height": 295
        },
        "id": "Rzp7_BdZkva_",
        "outputId": "d0c947fd-7377-4bc3-e431-b41a53b9b202"
      },
      "execution_count": 22,
      "outputs": [
        {
          "output_type": "display_data",
          "data": {
            "text/plain": [
              "<Figure size 432x288 with 1 Axes>"
            ],
            "image/png": "[encoded data removed]"
          },
          "metadata": {
            "needs_background": "light"
          }
        }
      ]
    },
    {
      "cell_type": "code",
      "source": [
        "# summarize history for f1 score\n",
        "plt.plot(history.history['f1'])\n",
        "plt.plot(history.history['val_f1'])\n",
        "plt.title('Model F1 score vs. epochs')\n",
        "plt.ylabel('F1')\n",
        "plt.xlabel('epochs')\n",
        "plt.legend(['train', 'test'], loc='lower right')\n",
        "plt.show()"
      ],
      "metadata": {
        "colab": {
          "base_uri": "https://localhost:8080/",
          "height": 295
        },
        "id": "p2gW_HKFk3qA",
        "outputId": "58bc196d-db3b-42da-c0c3-12ae91eed695"
      },
      "execution_count": 23,
      "outputs": [
        {
          "output_type": "display_data",
          "data": {
            "text/plain": [
              "<Figure size 432x288 with 1 Axes>"
            ],
            "image/png": "[encoded data removed]"
          },
          "metadata": {
            "needs_background": "light"
          }
        }
      ]
    },
    {
      "cell_type": "code",
      "source": [
        "# summarize history for accuracy\n",
        "plt.plot(history.history['accuracy'])\n",
        "plt.plot(history.history['val_accuracy'])\n",
        "plt.title('Model accuracy vs. epochs')\n",
        "plt.ylabel('accuracy')\n",
        "plt.xlabel('epochs')\n",
        "plt.legend(['train', 'test'], loc='lower right')\n",
        "plt.show()"
      ],
      "metadata": {
        "colab": {
          "base_uri": "https://localhost:8080/",
          "height": 295
        },
        "id": "aPRioZ-Xk4LG",
        "outputId": "42338122-69b0-468e-b3f0-c6bb1488768a"
      },
      "execution_count": 24,
      "outputs": [
        {
          "output_type": "display_data",
          "data": {
            "text/plain": [
              "<Figure size 432x288 with 1 Axes>"
            ],
            "image/png": "[encoded data removed]"
          },
          "metadata": {
            "needs_background": "light"
          }
        }
      ]
    },
    {
      "cell_type": "code",
      "source": [
        "# summarize history for loss\n",
        "plt.plot(history.history['loss'])\n",
        "plt.plot(history.history['val_loss'])\n",
        "plt.title('Model loss vs. epochs')\n",
        "plt.ylabel('loss')\n",
        "plt.xlabel('epochs')\n",
        "plt.legend(['train', 'test'], loc='lower right')\n",
        "plt.show()"
      ],
      "metadata": {
        "colab": {
          "base_uri": "https://localhost:8080/",
          "height": 295
        },
        "id": "Nwo_RRfPk_jm",
        "outputId": "a0b4ca83-7649-4ccd-f654-dc66a4fbca71"
      },
      "execution_count": 25,
      "outputs": [
        {
          "output_type": "display_data",
          "data": {
            "text/plain": [
              "<Figure size 432x288 with 1 Axes>"
            ],
            "image/png": "[encoded data removed]"
          },
          "metadata": {
            "needs_background": "light"
          }
        }
      ]
    },
    {
      "cell_type": "code",
      "source": [
        "test_gen=ImageDataGenerator()\n"
      ],
      "metadata": {
        "id": "FD2wGJR9lJDv"
      },
      "execution_count": 26,
      "outputs": []
    },
    {
      "cell_type": "code",
      "source": [
        "test_generator = test_gen.flow_from_directory(\n",
        "        test_path,\n",
        "        target_size=(img_size, img_size),\n",
        "        batch_size=32,\n",
        "        color_mode=\"rgb\",\n",
        "        class_mode='binary',\n",
        "        shuffle=False,\n",
        "        \n",
        ")"
      ],
      "metadata": {
        "colab": {
          "base_uri": "https://localhost:8080/"
        },
        "id": "071NUxQTlJlB",
        "outputId": "5c1ad501-5d05-45ce-c97d-f8f5c51bc04e"
      },
      "execution_count": 27,
      "outputs": [
        {
          "output_type": "stream",
          "name": "stdout",
          "text": [
            "Found 275 images belonging to 2 classes.\n"
          ]
        }
      ]
    },
    {
      "cell_type": "code",
      "source": [
        "model = generate_model(opt=tf.keras.optimizers.SGD(lr=0.001,nesterov=True))"
      ],
      "metadata": {
        "colab": {
          "base_uri": "https://localhost:8080/"
        },
        "id": "sOpH11jBlJwy",
        "outputId": "1182d0e1-9e4f-4f8e-c677-6b0239087540"
      },
      "execution_count": 28,
      "outputs": [
        {
          "output_type": "stream",
          "name": "stderr",
          "text": [
            "/usr/local/lib/python3.7/dist-packages/keras/optimizer_v2/gradient_descent.py:102: UserWarning: The `lr` argument is deprecated, use `learning_rate` instead.\n",
            "  super(SGD, self).__init__(name, **kwargs)\n"
          ]
        }
      ]
    },
    {
      "cell_type": "code",
      "source": [
        "model.load_weights(train_path + '/sgd_val_fmed_model.h5')"
      ],
      "metadata": {
        "id": "u7Duek2GlJ9R"
      },
      "execution_count": 29,
      "outputs": []
    },
    {
      "cell_type": "code",
      "source": [
        "model.compiled_metrics == None\n",
        "model.save('3-conv-CNN.h5')"
      ],
      "metadata": {
        "id": "o62NwaNromKV"
      },
      "execution_count": 30,
      "outputs": []
    },
    {
      "cell_type": "code",
      "source": [
        "path= '../content/3-conv-CNN.h5'\n",
        "dependancies={\n",
        "  'sensitivity':sensitivity,\n",
        "   'specificity':specificity,\n",
        "   'fmed':fmed,\n",
        "    'f1':f1\n",
        "}\n",
        "model=tf.keras.models.load_model(\n",
        "   path,\n",
        "    custom_objects=dependancies, compile=True, options=None\n",
        ")"
      ],
      "metadata": {
        "id": "AUSQ4Ruko2uh"
      },
      "execution_count": 31,
      "outputs": []
    },
    {
      "cell_type": "code",
      "source": [
        "probabilities = model.predict(test_generator)\n",
        "y_true = test_generator.classes\n",
        "y_pred = probabilities > 0.5"
      ],
      "metadata": {
        "id": "PHh-0FtIlKJ3"
      },
      "execution_count": 32,
      "outputs": []
    },
    {
      "cell_type": "code",
      "source": [
        "confusion_matrix(y_true, y_pred)"
      ],
      "metadata": {
        "colab": {
          "base_uri": "https://localhost:8080/"
        },
        "id": "LX67MaoLlKWx",
        "outputId": "d3dcc321-ca06-4c98-cc99-61830423b9db"
      },
      "execution_count": 33,
      "outputs": [
        {
          "output_type": "execute_result",
          "data": {
            "text/plain": [
              "array([[196,  38],\n",
              "       [  9,  32]])"
            ]
          },
          "metadata": {},
          "execution_count": 33
        }
      ]
    },
    {
      "cell_type": "code",
      "source": [
        "test_generator.class_indices"
      ],
      "metadata": {
        "colab": {
          "base_uri": "https://localhost:8080/"
        },
        "id": "gooDlzqqpVqa",
        "outputId": "d02bdc8a-612b-4cfa-d79e-a89c8547df0d"
      },
      "execution_count": 34,
      "outputs": [
        {
          "output_type": "execute_result",
          "data": {
            "text/plain": [
              "{'NORMAL': 0, 'TURBERCULOSIS': 1}"
            ]
          },
          "metadata": {},
          "execution_count": 34
        }
      ]
    },
    {
      "cell_type": "code",
      "source": [
        "tn, fp, fn, tp = confusion_matrix(y_true, y_pred).ravel()"
      ],
      "metadata": {
        "id": "I3aqo-BYlqN6"
      },
      "execution_count": 35,
      "outputs": []
    },
    {
      "cell_type": "code",
      "source": [
        "specificity = tn / (tn+fp)\n",
        "specificity"
      ],
      "metadata": {
        "colab": {
          "base_uri": "https://localhost:8080/"
        },
        "id": "2gfdRfYels_L",
        "outputId": "37450ec6-9056-4e9f-9857-181a143c3437"
      },
      "execution_count": 36,
      "outputs": [
        {
          "output_type": "execute_result",
          "data": {
            "text/plain": [
              "0.8376068376068376"
            ]
          },
          "metadata": {},
          "execution_count": 36
        }
      ]
    },
    {
      "cell_type": "code",
      "source": [
        "sensitivity = tp / (tp + fn)\n",
        "sensitivity\n"
      ],
      "metadata": {
        "colab": {
          "base_uri": "https://localhost:8080/"
        },
        "id": "88RA_ze_lteh",
        "outputId": "6cedb3ff-79d7-45c8-ce2e-60ae2548884a"
      },
      "execution_count": 37,
      "outputs": [
        {
          "output_type": "execute_result",
          "data": {
            "text/plain": [
              "0.7804878048780488"
            ]
          },
          "metadata": {},
          "execution_count": 37
        }
      ]
    },
    {
      "cell_type": "code",
      "source": [
        "accuracy = (tp + tn) / (tp + fn +fp + tn)\n",
        "accuracy\n"
      ],
      "metadata": {
        "colab": {
          "base_uri": "https://localhost:8080/"
        },
        "id": "Q0zlsb5jsyPJ",
        "outputId": "72215609-06c0-4a03-86ff-c6e6096f44e0"
      },
      "execution_count": 38,
      "outputs": [
        {
          "output_type": "execute_result",
          "data": {
            "text/plain": [
              "0.8290909090909091"
            ]
          },
          "metadata": {},
          "execution_count": 38
        }
      ]
    },
    {
      "cell_type": "markdown",
      "source": [
        "# **Plotting the confusion matrix**"
      ],
      "metadata": {
        "id": "oMhLxaljul4V"
      }
    },
    {
      "cell_type": "code",
      "source": [
        "cm=confusion_matrix(y_true=test_generator.classes,y_pred=probabilities > 0.5)"
      ],
      "metadata": {
        "id": "REGm-0ial_NY"
      },
      "execution_count": 39,
      "outputs": []
    },
    {
      "cell_type": "code",
      "source": [
        ""
      ],
      "metadata": {
        "id": "ZtBhaNc8mADT"
      },
      "execution_count": null,
      "outputs": []
    },
    {
      "cell_type": "code",
      "source": [
        "def plot_confusion_matrix(cm, classes,\n",
        "                          normalize=False,\n",
        "                          title='Confusion matrix',\n",
        "                          cmap=plt.cm.Greens):\n",
        "  \n",
        "    plt.imshow(cm, interpolation='nearest', cmap=cmap)\n",
        "    plt.title(title)\n",
        "    plt.colorbar()\n",
        "    tick_marks = np.arange(len(classes))\n",
        "    plt.xticks(tick_marks, classes, rotation=45)\n",
        "    plt.yticks(tick_marks, classes)\n",
        "\n",
        "    if normalize:\n",
        "        cm = cm.astype('float') / cm.sum(axis=1)[:, np.newaxis]\n",
        "        print(\"Normalized confusion matrix\")\n",
        "    else:\n",
        "        print('Confusion matrix, without normalization')\n",
        "\n",
        "    print(cm)\n",
        "\n",
        "    thresh = cm.max() / 2.\n",
        "    for i in range(cm.shape[0]):\n",
        "      for j in range (cm.shape[1]):\n",
        "        plt.text(j, i, cm[i, j],\n",
        "            horizontalalignment=\"center\",\n",
        "            color=\"white\" if cm[i, j] > thresh else \"black\")\n",
        "\n",
        "    plt.tight_layout()\n",
        "    plt.ylabel('True label')\n",
        "    plt.xlabel('Predicted label')"
      ],
      "metadata": {
        "id": "dm3bHPl9mAQs"
      },
      "execution_count": 40,
      "outputs": []
    },
    {
      "cell_type": "code",
      "source": [
        "cm_plot_labels=['NORMAL','TURBERCULOSIS']\n",
        "plot_confusion_matrix(cm=cm, classes=cm_plot_labels, title='Confusion Matrix')"
      ],
      "metadata": {
        "colab": {
          "base_uri": "https://localhost:8080/",
          "height": 363
        },
        "id": "CR_BNnt2mEKw",
        "outputId": "5784c391-561e-4244-a365-b788c1520dbb"
      },
      "execution_count": 41,
      "outputs": [
        {
          "output_type": "stream",
          "name": "stdout",
          "text": [
            "Confusion matrix, without normalization\n",
            "[[196  38]\n",
            " [  9  32]]\n"
          ]
        },
        {
          "output_type": "display_data",
          "data": {
            "text/plain": [
              "<Figure size 432x288 with 2 Axes>"
            ],
            "image/png": "[encoded data removed]"
          },
          "metadata": {
            "needs_background": "light"
          }
        }
      ]
    }
  ]
}